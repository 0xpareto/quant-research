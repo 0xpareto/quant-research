{
 "cells": [
  {
   "cell_type": "markdown",
   "metadata": {},
   "source": [
    "# Model Impact"
   ]
  },
  {
   "cell_type": "markdown",
   "metadata": {},
   "source": [
    "## Aim\n",
    "- Reconcile historical rebalances with their impact on the book\n",
    "- Regression: USD size of rebalance -> impact on book\n",
    "\n",
    "## TODO\n",
    "- Incorporate more model features; describe the book before the rebalance, incorporate macro indicators, etc\n",
    "- Use better predictive modelling; tree models etc"
   ]
  },
  {
   "cell_type": "code",
   "execution_count": 1,
   "metadata": {},
   "outputs": [],
   "source": [
    "%load_ext lab_black"
   ]
  },
  {
   "cell_type": "code",
   "execution_count": 114,
   "metadata": {},
   "outputs": [],
   "source": [
    "import requests\n",
    "import pandas as pd\n",
    "import numpy as np\n",
    "import tqdm\n",
    "import pickle\n",
    "import json\n",
    "import nest_asyncio\n",
    "\n",
    "from datetime import datetime, timedelta, date, time\n",
    "import random\n",
    "\n",
    "import seaborn as sns\n",
    "import matplotlib.pyplot as plt\n",
    "\n",
    "plt.style.use(\"ggplot\")\n",
    "\n",
    "\n",
    "pd.set_option(\"max_columns\", 99)\n",
    "pd.options.display.float_format = \"{:.12f}\".format"
   ]
  },
  {
   "cell_type": "code",
   "execution_count": 3,
   "metadata": {},
   "outputs": [],
   "source": [
    "token_data = pd.DataFrame(\n",
    "    requests.get(f\"https://ftx.com/api//lt/tokens\").json()[\"result\"]\n",
    ")\n",
    "token_data = token_data[token_data.currentLeverage != 0]"
   ]
  },
  {
   "cell_type": "code",
   "execution_count": 4,
   "metadata": {},
   "outputs": [],
   "source": [
    "all_underlying = token_data.underlying.unique()"
   ]
  },
  {
   "cell_type": "code",
   "execution_count": 5,
   "metadata": {},
   "outputs": [],
   "source": [
    "with open(\"rebalance_data/ADABEAR\", \"rb\") as f:\n",
    "    rebalance_data = pickle.load(f)"
   ]
  },
  {
   "cell_type": "markdown",
   "metadata": {},
   "source": [
    "### Combine LTs to their Underlying"
   ]
  },
  {
   "cell_type": "code",
   "execution_count": null,
   "metadata": {},
   "outputs": [],
   "source": []
  },
  {
   "cell_type": "code",
   "execution_count": 98,
   "metadata": {},
   "outputs": [],
   "source": [
    "import os\n",
    "\n",
    "all_files = os.listdir(\"rebalance_data/\")\n",
    "master_rebalance = pd.DataFrame()\n",
    "for underlying in all_underlying:\n",
    "    _underlying_df = pd.DataFrame()\n",
    "    _files = [x for x in all_files if underlying.replace(\"-PERP\", \"\") in x]\n",
    "    if len(_files) == 0:\n",
    "        continue\n",
    "\n",
    "    for f in _files:\n",
    "        with open(f\"rebalance_data/{f}\", \"rb\") as f:\n",
    "            rebalance_data = pickle.load(f)\n",
    "            rebalance_data = rebalance_data[\n",
    "                (rebalance_data.time.dt.time > time(0, 0, 0))\n",
    "                & (rebalance_data.time.dt.time < time(0, 5, 0))\n",
    "            ].copy()\n",
    "            _underlying_df = _underlying_df.append(rebalance_data, ignore_index=True)\n",
    "            _underlying_df[\"date\"] = _underlying_df[\"time\"].dt.date\n",
    "            _underlying_df[\"usd_notional_fill\"] = np.where(\n",
    "                _underlying_df.side == \"sell\",\n",
    "                _underlying_df.filledSize * _underlying_df.avgFillPrice * -1,\n",
    "                _underlying_df.filledSize * _underlying_df.avgFillPrice,\n",
    "            )\n",
    "    _underlying_df = (\n",
    "        _underlying_df.groupby(\"date\")[[\"usd_notional_fill\"]].sum().reset_index()\n",
    "    )\n",
    "    _underlying_df.insert(0, \"instrument\", underlying)\n",
    "    master_rebalance = master_rebalance.append(_underlying_df, ignore_index=True)"
   ]
  },
  {
   "cell_type": "code",
   "execution_count": 106,
   "metadata": {},
   "outputs": [],
   "source": [
    "master_rebalance = master_rebalance[master_rebalance.date >= date(2022, 1, 1)]"
   ]
  },
  {
   "cell_type": "code",
   "execution_count": 107,
   "metadata": {},
   "outputs": [
    {
     "data": {
      "text/html": [
       "<div>\n",
       "<style scoped>\n",
       "    .dataframe tbody tr th:only-of-type {\n",
       "        vertical-align: middle;\n",
       "    }\n",
       "\n",
       "    .dataframe tbody tr th {\n",
       "        vertical-align: top;\n",
       "    }\n",
       "\n",
       "    .dataframe thead th {\n",
       "        text-align: right;\n",
       "    }\n",
       "</style>\n",
       "<table border=\"1\" class=\"dataframe\">\n",
       "  <thead>\n",
       "    <tr style=\"text-align: right;\">\n",
       "      <th></th>\n",
       "      <th>instrument</th>\n",
       "      <th>date</th>\n",
       "      <th>usd_notional_fill</th>\n",
       "    </tr>\n",
       "  </thead>\n",
       "  <tbody>\n",
       "    <tr>\n",
       "      <th>800</th>\n",
       "      <td>ADA-PERP</td>\n",
       "      <td>2022-01-01</td>\n",
       "      <td>-1094995.853055000072</td>\n",
       "    </tr>\n",
       "    <tr>\n",
       "      <th>801</th>\n",
       "      <td>ADA-PERP</td>\n",
       "      <td>2022-01-02</td>\n",
       "      <td>1381995.841600000160</td>\n",
       "    </tr>\n",
       "    <tr>\n",
       "      <th>802</th>\n",
       "      <td>ADA-PERP</td>\n",
       "      <td>2022-01-03</td>\n",
       "      <td>-237031.338985000009</td>\n",
       "    </tr>\n",
       "    <tr>\n",
       "      <th>803</th>\n",
       "      <td>ADA-PERP</td>\n",
       "      <td>2022-01-04</td>\n",
       "      <td>-1105330.399179999949</td>\n",
       "    </tr>\n",
       "    <tr>\n",
       "      <th>804</th>\n",
       "      <td>ADA-PERP</td>\n",
       "      <td>2022-01-05</td>\n",
       "      <td>-309395.175120000029</td>\n",
       "    </tr>\n",
       "    <tr>\n",
       "      <th>...</th>\n",
       "      <td>...</td>\n",
       "      <td>...</td>\n",
       "      <td>...</td>\n",
       "    </tr>\n",
       "    <tr>\n",
       "      <th>35206</th>\n",
       "      <td>ZEC-PERP</td>\n",
       "      <td>2022-04-13</td>\n",
       "      <td>88986.126499999998</td>\n",
       "    </tr>\n",
       "    <tr>\n",
       "      <th>35207</th>\n",
       "      <td>ZEC-PERP</td>\n",
       "      <td>2022-04-15</td>\n",
       "      <td>-57802.800000000003</td>\n",
       "    </tr>\n",
       "    <tr>\n",
       "      <th>35208</th>\n",
       "      <td>ZEC-PERP</td>\n",
       "      <td>2022-04-17</td>\n",
       "      <td>-8406.096000000001</td>\n",
       "    </tr>\n",
       "    <tr>\n",
       "      <th>35209</th>\n",
       "      <td>ZEC-PERP</td>\n",
       "      <td>2022-04-18</td>\n",
       "      <td>-135830.560499999992</td>\n",
       "    </tr>\n",
       "    <tr>\n",
       "      <th>35210</th>\n",
       "      <td>ZEC-PERP</td>\n",
       "      <td>2022-04-19</td>\n",
       "      <td>259027.966999999975</td>\n",
       "    </tr>\n",
       "  </tbody>\n",
       "</table>\n",
       "<p>4770 rows × 3 columns</p>\n",
       "</div>"
      ],
      "text/plain": [
       "      instrument        date     usd_notional_fill\n",
       "800     ADA-PERP  2022-01-01 -1094995.853055000072\n",
       "801     ADA-PERP  2022-01-02  1381995.841600000160\n",
       "802     ADA-PERP  2022-01-03  -237031.338985000009\n",
       "803     ADA-PERP  2022-01-04 -1105330.399179999949\n",
       "804     ADA-PERP  2022-01-05  -309395.175120000029\n",
       "...          ...         ...                   ...\n",
       "35206   ZEC-PERP  2022-04-13    88986.126499999998\n",
       "35207   ZEC-PERP  2022-04-15   -57802.800000000003\n",
       "35208   ZEC-PERP  2022-04-17    -8406.096000000001\n",
       "35209   ZEC-PERP  2022-04-18  -135830.560499999992\n",
       "35210   ZEC-PERP  2022-04-19   259027.966999999975\n",
       "\n",
       "[4770 rows x 3 columns]"
      ]
     },
     "execution_count": 107,
     "metadata": {},
     "output_type": "execute_result"
    }
   ],
   "source": [
    "master_rebalance"
   ]
  },
  {
   "cell_type": "code",
   "execution_count": null,
   "metadata": {},
   "outputs": [],
   "source": []
  },
  {
   "cell_type": "code",
   "execution_count": 327,
   "metadata": {},
   "outputs": [
    {
     "name": "stderr",
     "output_type": "stream",
     "text": [
      "100%|██████████| 47/47 [08:21<00:00, 10.68s/it]\n"
     ]
    }
   ],
   "source": [
    "results = []\n",
    "for inst in tqdm.tqdm(all_underlying):\n",
    "    try:\n",
    "        df = pd.read_csv(f\"candle_data/{inst}.csv\")\n",
    "    except:\n",
    "        continue\n",
    "    df[\"time\"] = pd.to_datetime(df[\"time\"])\n",
    "\n",
    "    _reb = master_rebalance[master_rebalance.instrument == inst].copy()\n",
    "\n",
    "    for i, row in _reb.iterrows():\n",
    "        _df = df[df[\"time\"].dt.date == row[\"date\"]].copy()\n",
    "        _df = _df.loc[\n",
    "            (_df[\"time\"].dt.time >= time(0, 2, 0))\n",
    "            & (_df[\"time\"].dt.time <= time(0, 3, 0))\n",
    "        ].sort_values(\"time\")\n",
    "\n",
    "        if _df.shape[0] == 0:\n",
    "            continue\n",
    "\n",
    "        if row[\"usd_notional_fill\"] >= 0:\n",
    "            _open = _df[\"open\"].iloc[0]\n",
    "            _max = _df[\"high\"].max()\n",
    "            delta = (_max - _open) / _open * 100\n",
    "        else:\n",
    "            _open = _df[\"open\"].iloc[0]\n",
    "            _min = _df[\"low\"].min()\n",
    "            delta = (_open - _min) / _open * 100\n",
    "\n",
    "        results.append(\n",
    "            {\n",
    "                \"instrument\": inst,\n",
    "                \"date\": row[\"date\"],\n",
    "                \"usd_notional\": row[\"usd_notional_fill\"],\n",
    "                \"pct_move\": delta,\n",
    "            }\n",
    "        )"
   ]
  },
  {
   "cell_type": "code",
   "execution_count": 328,
   "metadata": {},
   "outputs": [
    {
     "data": {
      "text/plain": [
       "<AxesSubplot:xlabel='abs_usd_notional', ylabel='pct_move'>"
      ]
     },
     "execution_count": 328,
     "metadata": {},
     "output_type": "execute_result"
    },
    {
     "data": {
      "image/png": "[encoded data removed]",
      "text/plain": [
       "<Figure size 432x288 with 1 Axes>"
      ]
     },
     "metadata": {},
     "output_type": "display_data"
    }
   ],
   "source": [
    "df_results = pd.DataFrame(results)\n",
    "df_results[\"abs_usd_notional\"] = abs(df_results.usd_notional)\n",
    "sns.regplot(x=df_results[\"abs_usd_notional\"], y=df_results.pct_move)"
   ]
  },
  {
   "cell_type": "code",
   "execution_count": 329,
   "metadata": {},
   "outputs": [
    {
     "data": {
      "text/plain": [
       "<AxesSubplot:xlabel='instrument'>"
      ]
     },
     "execution_count": 329,
     "metadata": {},
     "output_type": "execute_result"
    },
    {
     "data": {
      "image/png": "[encoded data removed]",
      "text/plain": [
       "<Figure size 1440x504 with 1 Axes>"
      ]
     },
     "metadata": {},
     "output_type": "display_data"
    }
   ],
   "source": [
    "fig, ax = plt.subplots(figsize=(20, 7))\n",
    "df_results.groupby(\"instrument\").pct_move.mean().sort_values().plot(kind=\"bar\")"
   ]
  },
  {
   "cell_type": "code",
   "execution_count": null,
   "metadata": {},
   "outputs": [],
   "source": []
  },
  {
   "cell_type": "code",
   "execution_count": 388,
   "metadata": {},
   "outputs": [
    {
     "data": {
      "image/png": "[encoded data removed]",
      "text/plain": [
       "<Figure size 1440x504 with 1 Axes>"
      ]
     },
     "metadata": {},
     "output_type": "display_data"
    }
   ],
   "source": [
    "fig, ax = plt.subplots(figsize=(20, 7))\n",
    "_df = df_results[df_results.instrument == \"EOS-PERP\"]\n",
    "sns.regplot(x=_df.abs_usd_notional, y=_df.pct_move)\n",
    "\n",
    "ax.ticklabel_format(style=\"plain\")\n",
    "ax.ticklabel_format(useOffset=False)"
   ]
  },
  {
   "cell_type": "code",
   "execution_count": 389,
   "metadata": {},
   "outputs": [],
   "source": [
    "from sklearn.linear_model import LinearRegression, Ridge\n",
    "from scipy import stats"
   ]
  },
  {
   "cell_type": "code",
   "execution_count": 390,
   "metadata": {},
   "outputs": [],
   "source": [
    "slope, intercept, r, p, std_err = stats.linregress(_df.abs_usd_notional, _df.pct_move)"
   ]
  },
  {
   "cell_type": "code",
   "execution_count": 391,
   "metadata": {},
   "outputs": [
    {
     "data": {
      "text/plain": [
       "(1.2052880749790457e-07,\n",
       " 0.11818139021015314,\n",
       " 0.3695906883756435,\n",
       " 0.00012197382004781621,\n",
       " 3.015198156741049e-08)"
      ]
     },
     "execution_count": 391,
     "metadata": {},
     "output_type": "execute_result"
    }
   ],
   "source": [
    "slope, intercept, r, p, std_err"
   ]
  },
  {
   "cell_type": "code",
   "execution_count": 392,
   "metadata": {},
   "outputs": [],
   "source": [
    "def pred(x):\n",
    "    return slope * x + intercept"
   ]
  },
  {
   "cell_type": "code",
   "execution_count": 394,
   "metadata": {},
   "outputs": [
    {
     "data": {
      "text/plain": [
       "0.20410873278383285"
      ]
     },
     "execution_count": 394,
     "metadata": {},
     "output_type": "execute_result"
    }
   ],
   "source": [
    "pred(712919.544774999842)"
   ]
  },
  {
   "cell_type": "code",
   "execution_count": 378,
   "metadata": {},
   "outputs": [
    {
     "data": {
      "text/html": [
       "<div>\n",
       "<style scoped>\n",
       "    .dataframe tbody tr th:only-of-type {\n",
       "        vertical-align: middle;\n",
       "    }\n",
       "\n",
       "    .dataframe tbody tr th {\n",
       "        vertical-align: top;\n",
       "    }\n",
       "\n",
       "    .dataframe thead th {\n",
       "        text-align: right;\n",
       "    }\n",
       "</style>\n",
       "<table border=\"1\" class=\"dataframe\">\n",
       "  <thead>\n",
       "    <tr style=\"text-align: right;\">\n",
       "      <th></th>\n",
       "      <th>time</th>\n",
       "      <th>side</th>\n",
       "      <th>avgFillPrice</th>\n",
       "      <th>filledSize</th>\n",
       "      <th>sentSize</th>\n",
       "      <th>usd_notional</th>\n",
       "    </tr>\n",
       "  </thead>\n",
       "  <tbody>\n",
       "    <tr>\n",
       "      <th>0</th>\n",
       "      <td>2022-04-20T00:02:52.675658+00:00</td>\n",
       "      <td>buy</td>\n",
       "      <td>2.639344716104</td>\n",
       "      <td>93241.800000000003</td>\n",
       "      <td>93241.800000000003</td>\n",
       "      <td>246097.252149999986</td>\n",
       "    </tr>\n",
       "    <tr>\n",
       "      <th>1</th>\n",
       "      <td>2022-04-19T16:13:47.843875+00:00</td>\n",
       "      <td>buy</td>\n",
       "      <td>2.620816001052</td>\n",
       "      <td>751375.900000000023</td>\n",
       "      <td>751375.900000000023</td>\n",
       "      <td>1969217.981524999952</td>\n",
       "    </tr>\n",
       "    <tr>\n",
       "      <th>2</th>\n",
       "      <td>2022-04-19T00:02:52.793082+00:00</td>\n",
       "      <td>buy</td>\n",
       "      <td>2.448499984916</td>\n",
       "      <td>170712.100000000006</td>\n",
       "      <td>170712.100000000006</td>\n",
       "      <td>417988.574275000079</td>\n",
       "    </tr>\n",
       "    <tr>\n",
       "      <th>3</th>\n",
       "      <td>2022-04-18T00:02:38.040502+00:00</td>\n",
       "      <td>sell</td>\n",
       "      <td>2.410817277185</td>\n",
       "      <td>771410.099999999977</td>\n",
       "      <td>771410.099999999977</td>\n",
       "      <td>1859728.796875000000</td>\n",
       "    </tr>\n",
       "    <tr>\n",
       "      <th>4</th>\n",
       "      <td>2022-04-17T00:02:44.320481+00:00</td>\n",
       "      <td>sell</td>\n",
       "      <td>2.610188660281</td>\n",
       "      <td>42285.000000000000</td>\n",
       "      <td>42285.000000000000</td>\n",
       "      <td>110371.827499999999</td>\n",
       "    </tr>\n",
       "    <tr>\n",
       "      <th>5</th>\n",
       "      <td>2022-04-16T22:01:24.631901+00:00</td>\n",
       "      <td>buy</td>\n",
       "      <td>2.628185494358</td>\n",
       "      <td>796200.900000000023</td>\n",
       "      <td>796200.900000000023</td>\n",
       "      <td>2092563.655975000001</td>\n",
       "    </tr>\n",
       "  </tbody>\n",
       "</table>\n",
       "</div>"
      ],
      "text/plain": [
       "                               time  side   avgFillPrice          filledSize  \\\n",
       "0  2022-04-20T00:02:52.675658+00:00   buy 2.639344716104  93241.800000000003   \n",
       "1  2022-04-19T16:13:47.843875+00:00   buy 2.620816001052 751375.900000000023   \n",
       "2  2022-04-19T00:02:52.793082+00:00   buy 2.448499984916 170712.100000000006   \n",
       "3  2022-04-18T00:02:38.040502+00:00  sell 2.410817277185 771410.099999999977   \n",
       "4  2022-04-17T00:02:44.320481+00:00  sell 2.610188660281  42285.000000000000   \n",
       "5  2022-04-16T22:01:24.631901+00:00   buy 2.628185494358 796200.900000000023   \n",
       "\n",
       "             sentSize         usd_notional  \n",
       "0  93241.800000000003  246097.252149999986  \n",
       "1 751375.900000000023 1969217.981524999952  \n",
       "2 170712.100000000006  417988.574275000079  \n",
       "3 771410.099999999977 1859728.796875000000  \n",
       "4  42285.000000000000  110371.827499999999  \n",
       "5 796200.900000000023 2092563.655975000001  "
      ]
     },
     "metadata": {},
     "output_type": "display_data"
    },
    {
     "data": {
      "text/html": [
       "<div>\n",
       "<style scoped>\n",
       "    .dataframe tbody tr th:only-of-type {\n",
       "        vertical-align: middle;\n",
       "    }\n",
       "\n",
       "    .dataframe tbody tr th {\n",
       "        vertical-align: top;\n",
       "    }\n",
       "\n",
       "    .dataframe thead th {\n",
       "        text-align: right;\n",
       "    }\n",
       "</style>\n",
       "<table border=\"1\" class=\"dataframe\">\n",
       "  <thead>\n",
       "    <tr style=\"text-align: right;\">\n",
       "      <th></th>\n",
       "      <th>time</th>\n",
       "      <th>side</th>\n",
       "      <th>avgFillPrice</th>\n",
       "      <th>filledSize</th>\n",
       "      <th>sentSize</th>\n",
       "      <th>usd_notional</th>\n",
       "    </tr>\n",
       "  </thead>\n",
       "  <tbody>\n",
       "    <tr>\n",
       "      <th>0</th>\n",
       "      <td>2022-04-20T00:03:15.258435+00:00</td>\n",
       "      <td>buy</td>\n",
       "      <td>2.643494589748</td>\n",
       "      <td>553952.900000000023</td>\n",
       "      <td>553952.900000000023</td>\n",
       "      <td>1464371.494124999968</td>\n",
       "    </tr>\n",
       "    <tr>\n",
       "      <th>1</th>\n",
       "      <td>2022-04-19T00:03:15.213184+00:00</td>\n",
       "      <td>buy</td>\n",
       "      <td>2.454102147378</td>\n",
       "      <td>106348.300000000003</td>\n",
       "      <td>106348.300000000003</td>\n",
       "      <td>260989.591400000034</td>\n",
       "    </tr>\n",
       "    <tr>\n",
       "      <th>2</th>\n",
       "      <td>2022-04-18T00:03:00.579644+00:00</td>\n",
       "      <td>sell</td>\n",
       "      <td>2.412202298807</td>\n",
       "      <td>750306.699999999953</td>\n",
       "      <td>750306.699999999953</td>\n",
       "      <td>1809891.546549999854</td>\n",
       "    </tr>\n",
       "    <tr>\n",
       "      <th>3</th>\n",
       "      <td>2022-04-17T00:03:05.263487+00:00</td>\n",
       "      <td>buy</td>\n",
       "      <td>2.616888192554</td>\n",
       "      <td>843540.199999999953</td>\n",
       "      <td>843540.199999999953</td>\n",
       "      <td>2207450.389324999880</td>\n",
       "    </tr>\n",
       "    <tr>\n",
       "      <th>4</th>\n",
       "      <td>2022-04-15T00:03:09.719018+00:00</td>\n",
       "      <td>buy</td>\n",
       "      <td>2.312165405011</td>\n",
       "      <td>217095.600000000006</td>\n",
       "      <td>217095.600000000006</td>\n",
       "      <td>501960.935900000040</td>\n",
       "    </tr>\n",
       "    <tr>\n",
       "      <th>5</th>\n",
       "      <td>2022-04-13T00:02:57.091493+00:00</td>\n",
       "      <td>buy</td>\n",
       "      <td>2.255438345636</td>\n",
       "      <td>220994.899999999994</td>\n",
       "      <td>220994.899999999994</td>\n",
       "      <td>498440.371649999928</td>\n",
       "    </tr>\n",
       "  </tbody>\n",
       "</table>\n",
       "</div>"
      ],
      "text/plain": [
       "                               time  side   avgFillPrice          filledSize  \\\n",
       "0  2022-04-20T00:03:15.258435+00:00   buy 2.643494589748 553952.900000000023   \n",
       "1  2022-04-19T00:03:15.213184+00:00   buy 2.454102147378 106348.300000000003   \n",
       "2  2022-04-18T00:03:00.579644+00:00  sell 2.412202298807 750306.699999999953   \n",
       "3  2022-04-17T00:03:05.263487+00:00   buy 2.616888192554 843540.199999999953   \n",
       "4  2022-04-15T00:03:09.719018+00:00   buy 2.312165405011 217095.600000000006   \n",
       "5  2022-04-13T00:02:57.091493+00:00   buy 2.255438345636 220994.899999999994   \n",
       "\n",
       "             sentSize         usd_notional  \n",
       "0 553952.900000000023 1464371.494124999968  \n",
       "1 106348.300000000003  260989.591400000034  \n",
       "2 750306.699999999953 1809891.546549999854  \n",
       "3 843540.199999999953 2207450.389324999880  \n",
       "4 217095.600000000006  501960.935900000040  \n",
       "5 220994.899999999994  498440.371649999928  "
      ]
     },
     "metadata": {},
     "output_type": "display_data"
    }
   ],
   "source": [
    "df = pd.DataFrame(\n",
    "    requests.get(f\"https://ftx.com/api/lt/EOSBEAR/major_rebalances\").json()[\"result\"]\n",
    ")\n",
    "df[\"usd_notional\"] = df.filledSize * df.avgFillPrice\n",
    "\n",
    "display(df.head(6))\n",
    "\n",
    "df = pd.DataFrame(\n",
    "    requests.get(f\"https://ftx.com/api/lt/EOSBULL/major_rebalances\").json()[\"result\"]\n",
    ")\n",
    "df[\"usd_notional\"] = df.filledSize * df.avgFillPrice\n",
    "\n",
    "display(df.head(6))"
   ]
  },
  {
   "cell_type": "code",
   "execution_count": null,
   "metadata": {},
   "outputs": [],
   "source": []
  },
  {
   "cell_type": "code",
   "execution_count": null,
   "metadata": {},
   "outputs": [],
   "source": []
  },
  {
   "cell_type": "code",
   "execution_count": null,
   "metadata": {},
   "outputs": [],
   "source": []
  }
 ],
 "metadata": {
  "kernelspec": {
   "display_name": "mwz",
   "language": "python",
   "name": "mwz"
  },
  "language_info": {
   "codemirror_mode": {
    "name": "ipython",
    "version": 3
   },
   "file_extension": ".py",
   "mimetype": "text/x-python",
   "name": "python",
   "nbconvert_exporter": "python",
   "pygments_lexer": "ipython3",
   "version": "3.8.5"
  }
 },
 "nbformat": 4,
 "nbformat_minor": 4
}
